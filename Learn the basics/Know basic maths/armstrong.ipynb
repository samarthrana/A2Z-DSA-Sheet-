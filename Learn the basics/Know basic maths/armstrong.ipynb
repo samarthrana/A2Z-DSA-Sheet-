{
 "cells": [
  {
   "cell_type": "markdown",
   "metadata": {},
   "source": [
    "An Armstrong number is a positive integer that is equal to the sum of its digits, each raised to a power that matches the number of digits: \n",
    "Explanation: For example, 153 is an Armstrong number because 1^3 + 5^3 + 3^3 = 153. \n"
   ]
  },
  {
   "cell_type": "code",
   "execution_count": 12,
   "metadata": {},
   "outputs": [],
   "source": [
    "def armstrong(N):\n",
    "\n",
    "    sum = 0\n",
    "    dup = N\n",
    "    n = len(str(N))\n",
    "\n",
    "    while(N>0):\n",
    "\n",
    "        ld = N % 10\n",
    "        sum = sum + ld**n\n",
    "        N = N // 10\n",
    "\n",
    "    if dup == sum:\n",
    "        return True\n",
    "    else:\n",
    "        return False"
   ]
  },
  {
   "cell_type": "code",
   "execution_count": 13,
   "metadata": {},
   "outputs": [
    {
     "data": {
      "text/plain": [
       "True"
      ]
     },
     "execution_count": 13,
     "metadata": {},
     "output_type": "execute_result"
    }
   ],
   "source": [
    "armstrong(407)"
   ]
  },
  {
   "cell_type": "code",
   "execution_count": null,
   "metadata": {},
   "outputs": [],
   "source": []
  }
 ],
 "metadata": {
  "kernelspec": {
   "display_name": "Python 3",
   "language": "python",
   "name": "python3"
  },
  "language_info": {
   "codemirror_mode": {
    "name": "ipython",
    "version": 3
   },
   "file_extension": ".py",
   "mimetype": "text/x-python",
   "name": "python",
   "nbconvert_exporter": "python",
   "pygments_lexer": "ipython3",
   "version": "3.12.5"
  }
 },
 "nbformat": 4,
 "nbformat_minor": 2
}

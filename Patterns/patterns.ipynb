{
 "cells": [
  {
   "cell_type": "markdown",
   "metadata": {},
   "source": [
    "Trick to solve patterms:\n",
    "\n",
    "1. For the outer loop, count the number of rows/lines.\n",
    "2. For the inner loop, count the number of columns and connect them somehow to the rows.\n",
    "3. Whatever you're printing, print them inside the inner loop.\n",
    "4. Observe symmetry in case of patterns.\n"
   ]
  },
  {
   "cell_type": "code",
   "execution_count": 15,
   "metadata": {},
   "outputs": [
    {
     "name": "stdout",
     "output_type": "stream",
     "text": [
      "* * * * \n",
      "* * * * \n",
      "* * * * \n",
      "* * * * \n"
     ]
    }
   ],
   "source": [
    "for i in range(4):\n",
    "    for j in range(4):\n",
    "        print('*', end = \" \")\n",
    "    print(\"\")"
   ]
  },
  {
   "cell_type": "code",
   "execution_count": 16,
   "metadata": {},
   "outputs": [
    {
     "name": "stdout",
     "output_type": "stream",
     "text": [
      "* \n",
      "* * \n",
      "* * * \n",
      "* * * * \n",
      "* * * * * \n"
     ]
    }
   ],
   "source": [
    "for i in range(1, 6):\n",
    "    for J in range(i):\n",
    "        print('*', end = \" \")\n",
    "    print(\"\")"
   ]
  },
  {
   "cell_type": "code",
   "execution_count": 20,
   "metadata": {},
   "outputs": [
    {
     "name": "stdout",
     "output_type": "stream",
     "text": [
      "1 \n",
      "1 2 \n",
      "1 2 3 \n",
      "1 2 3 4 \n",
      "1 2 3 4 5 \n"
     ]
    }
   ],
   "source": [
    "for i in range(1, 6):\n",
    "    for j in range(1, i+1):\n",
    "        print(j, end = \" \")\n",
    "    print(\"\")\n"
   ]
  },
  {
   "cell_type": "code",
   "execution_count": 21,
   "metadata": {},
   "outputs": [
    {
     "name": "stdout",
     "output_type": "stream",
     "text": [
      "1 \n",
      "2 2 \n",
      "3 3 3 \n",
      "4 4 4 4 \n",
      "5 5 5 5 5 \n"
     ]
    }
   ],
   "source": [
    "for i in range(1, 6):\n",
    "    for j in range(i):\n",
    "        print(i, end = \" \")\n",
    "    print(\"\")"
   ]
  },
  {
   "cell_type": "code",
   "execution_count": 7,
   "metadata": {},
   "outputs": [
    {
     "name": "stdout",
     "output_type": "stream",
     "text": [
      "* * * * * \n",
      "* * * * \n",
      "* * * \n",
      "* * \n",
      "* \n"
     ]
    }
   ],
   "source": [
    "for i in range(1, 6):\n",
    "    for j in range(1, 6-i+1):\n",
    "        print(\"*\", end = \" \")\n",
    "    print(\"\")\n",
    "    "
   ]
  },
  {
   "cell_type": "code",
   "execution_count": 8,
   "metadata": {},
   "outputs": [
    {
     "name": "stdout",
     "output_type": "stream",
     "text": [
      "1 2 3 4 5 \n",
      "1 2 3 4 \n",
      "1 2 3 \n",
      "1 2 \n",
      "1 \n"
     ]
    }
   ],
   "source": [
    "for i in range(1, 6):\n",
    "    for j in range(1, 6-i +1):\n",
    "        print(j, end = \" \")\n",
    "    print(\"\")"
   ]
  },
  {
   "cell_type": "code",
   "execution_count": 14,
   "metadata": {},
   "outputs": [],
   "source": [
    "def print1(n):\n",
    "    for i in range(0, n):\n",
    "        # space\n",
    "        for j in range(0, n-i-1):\n",
    "            print(\" \", end = \"\")\n",
    "\n",
    "        # stars\n",
    "        for k in range(0, 2*i+1):\n",
    "            print(\"*\", end = \"\")\n",
    "\n",
    "        # space\n",
    "        for j in range(0, n-i-1):\n",
    "            print(\" \", end = \"\")\n",
    "\n",
    "        print(\"\")"
   ]
  },
  {
   "cell_type": "code",
   "execution_count": 15,
   "metadata": {},
   "outputs": [
    {
     "name": "stdout",
     "output_type": "stream",
     "text": [
      "    *    \n",
      "   ***   \n",
      "  *****  \n",
      " ******* \n",
      "*********\n"
     ]
    }
   ],
   "source": [
    "print1(5)"
   ]
  },
  {
   "cell_type": "code",
   "execution_count": 144,
   "metadata": {},
   "outputs": [],
   "source": [
    "def print2(n):\n",
    "    for i in range(0, n):\n",
    "        #space\n",
    "        for j in range(0, i):\n",
    "            print(\" \", end = \"\")\n",
    "\n",
    "        #stars\n",
    "        for k in range(0, 2*n - 2*i -1):\n",
    "            print(\"*\", end = \"\")\n",
    "\n",
    "        #space\n",
    "        for j in range(0, i):\n",
    "            print(\" \", end = \"\")\n",
    "        print(\"\")"
   ]
  },
  {
   "cell_type": "code",
   "execution_count": 145,
   "metadata": {},
   "outputs": [
    {
     "name": "stdout",
     "output_type": "stream",
     "text": [
      "*********\n",
      " ******* \n",
      "  *****  \n",
      "   ***   \n",
      "    *    \n"
     ]
    }
   ],
   "source": [
    "print2(5)"
   ]
  },
  {
   "cell_type": "code",
   "execution_count": 20,
   "metadata": {},
   "outputs": [
    {
     "name": "stdout",
     "output_type": "stream",
     "text": [
      "    *    \n",
      "   ***   \n",
      "  *****  \n",
      " ******* \n",
      "*********\n",
      "*********\n",
      " ******* \n",
      "  *****  \n",
      "   ***   \n",
      "    *    \n"
     ]
    }
   ],
   "source": [
    "print1(5)\n",
    "print2(5)"
   ]
  },
  {
   "cell_type": "code",
   "execution_count": 46,
   "metadata": {},
   "outputs": [],
   "source": [
    "def print3(n):\n",
    "    for i in range(1, n//2+1):\n",
    "        # first pattern\n",
    "        for j in range(1, i+1):\n",
    "            print(\"*\", end = \" \")\n",
    "        print(\"\")\n",
    "\n",
    "    for i in range(n//2+1, n):\n",
    "        for j in range(1, n-i+1):\n",
    "            print(\"*\", end = \" \")\n",
    "        print(\"\")\n",
    "        "
   ]
  },
  {
   "cell_type": "code",
   "execution_count": 47,
   "metadata": {},
   "outputs": [
    {
     "name": "stdout",
     "output_type": "stream",
     "text": [
      "* \n",
      "* * \n",
      "* * * \n",
      "* * * * \n",
      "* * * * * \n",
      "* * * * \n",
      "* * * \n",
      "* * \n",
      "* \n"
     ]
    }
   ],
   "source": [
    "print3(10)"
   ]
  },
  {
   "cell_type": "code",
   "execution_count": 53,
   "metadata": {},
   "outputs": [],
   "source": [
    "def print4(n):\n",
    "    start = 1\n",
    "    for i in range(n):\n",
    "        if i%2 == 0:\n",
    "            start = 1\n",
    "        else:\n",
    "            start = 0\n",
    "        for j in range(i+1):\n",
    "            print(start, end = \" \")\n",
    "            start = 1-start\n",
    "        print(\"\")\n",
    "         "
   ]
  },
  {
   "cell_type": "code",
   "execution_count": 54,
   "metadata": {},
   "outputs": [
    {
     "name": "stdout",
     "output_type": "stream",
     "text": [
      "1 \n",
      "0 1 \n",
      "1 0 1 \n",
      "0 1 0 1 \n",
      "1 0 1 0 1 \n"
     ]
    }
   ],
   "source": [
    "print4(5)"
   ]
  },
  {
   "cell_type": "code",
   "execution_count": 115,
   "metadata": {},
   "outputs": [],
   "source": [
    "def print5(n):\n",
    "    for i in range(n):\n",
    "        #num\n",
    "        for j in range(1, i + 2):\n",
    "            print(j, end = \"\")\n",
    "\n",
    "        #space\n",
    "        for j in range(0, 2*n - 2*i - 2):\n",
    "            print(\"*\", end = \"\")\n",
    "\n",
    "        #num\n",
    "        for j in range(i+1, 0, -1):\n",
    "            print(j, end = \"\")\n",
    "\n",
    "        print(\"\")"
   ]
  },
  {
   "cell_type": "code",
   "execution_count": 116,
   "metadata": {},
   "outputs": [
    {
     "name": "stdout",
     "output_type": "stream",
     "text": [
      "1******1\n",
      "12****21\n",
      "123**321\n",
      "12344321\n"
     ]
    }
   ],
   "source": [
    "print5(4)\n"
   ]
  },
  {
   "cell_type": "code",
   "execution_count": 127,
   "metadata": {},
   "outputs": [],
   "source": [
    "def print6(n):\n",
    "    num = 1\n",
    "    for i in range(1, n+1):\n",
    "        for j in range(i):\n",
    "            print(num, end = \" \")\n",
    "            num = num + 1\n",
    "        print(\"\")"
   ]
  },
  {
   "cell_type": "code",
   "execution_count": 128,
   "metadata": {},
   "outputs": [
    {
     "name": "stdout",
     "output_type": "stream",
     "text": [
      "1 \n",
      "2 3 \n",
      "4 5 6 \n",
      "7 8 9 10 \n",
      "11 12 13 14 15 \n"
     ]
    }
   ],
   "source": [
    "print6(5)"
   ]
  },
  {
   "cell_type": "code",
   "execution_count": 129,
   "metadata": {},
   "outputs": [],
   "source": [
    "def print7(n):\n",
    "\n",
    "    for i in range(1, n+1):\n",
    "        for j in range(i):\n",
    "            print(chr(j+65), end = \" \")\n",
    "        print(\"\")"
   ]
  },
  {
   "cell_type": "code",
   "execution_count": 130,
   "metadata": {},
   "outputs": [
    {
     "name": "stdout",
     "output_type": "stream",
     "text": [
      "A \n",
      "A B \n",
      "A B C \n",
      "A B C D \n",
      "A B C D E \n"
     ]
    }
   ],
   "source": [
    "print7(5)"
   ]
  },
  {
   "cell_type": "code",
   "execution_count": 133,
   "metadata": {},
   "outputs": [],
   "source": [
    "def print8(n):\n",
    "    for i in range(n):\n",
    "        for j in range(n-i):\n",
    "            print(chr(j+65), end = \" \")\n",
    "        print('')"
   ]
  },
  {
   "cell_type": "code",
   "execution_count": 134,
   "metadata": {},
   "outputs": [
    {
     "name": "stdout",
     "output_type": "stream",
     "text": [
      "A B C D E \n",
      "A B C D \n",
      "A B C \n",
      "A B \n",
      "A \n"
     ]
    }
   ],
   "source": [
    "print8(5)\n"
   ]
  },
  {
   "cell_type": "code",
   "execution_count": 138,
   "metadata": {},
   "outputs": [],
   "source": [
    "def print9(n):\n",
    "    for i in range(n):\n",
    "        for j in range(i+1):\n",
    "            print(chr(i + 65), end = \" \")\n",
    "        print(\"\")"
   ]
  },
  {
   "cell_type": "code",
   "execution_count": 139,
   "metadata": {},
   "outputs": [
    {
     "name": "stdout",
     "output_type": "stream",
     "text": [
      "A \n",
      "B B \n",
      "C C C \n",
      "D D D D \n",
      "E E E E E \n"
     ]
    }
   ],
   "source": [
    "print9(5)"
   ]
  },
  {
   "cell_type": "code",
   "execution_count": 168,
   "metadata": {},
   "outputs": [
    {
     "name": "stdout",
     "output_type": "stream",
     "text": [
      "****A****\n",
      "***ABA***\n",
      "**ABCBA**\n",
      "*ABCDCBA*\n",
      "ABCDEDCBA\n"
     ]
    }
   ],
   "source": [
    "def print10(n):\n",
    "    for i in range(0, n):\n",
    "        #space\n",
    "        for j in range(n-i-1):\n",
    "            print(\"*\", end = \"\")\n",
    "\n",
    "        #char\n",
    "        ch = chr(65)\n",
    "        stop = i\n",
    "        for j in range( 2*i+1):\n",
    "            print(ch, end = \"\")\n",
    "            if j < stop:\n",
    "                ch = chr(ord(ch) + 1)\n",
    "            else:\n",
    "                ch = chr(ord(ch) - 1)\n",
    "\n",
    "        #space\n",
    "        for j in range (n- i -1):\n",
    "            print(\"*\", end = \"\")\n",
    "\n",
    "        print(\"\")\n",
    "\n",
    "print10(5)"
   ]
  },
  {
   "cell_type": "code",
   "execution_count": 193,
   "metadata": {},
   "outputs": [
    {
     "name": "stdout",
     "output_type": "stream",
     "text": [
      "E\n",
      "DE\n",
      "CDE\n",
      "BCDE\n",
      "ABCDE\n"
     ]
    }
   ],
   "source": [
    "def print11(n):\n",
    "    ch = chr(69)\n",
    "    for i in range(n):\n",
    "        for j in range(i+1, 0, -1):\n",
    "            print(chr(70-j), end = \"\")\n",
    "        print(\"\")\n",
    "\n",
    "print11(5)"
   ]
  },
  {
   "cell_type": "code",
   "execution_count": 12,
   "metadata": {},
   "outputs": [
    {
     "name": "stdout",
     "output_type": "stream",
     "text": [
      "**********\n",
      "****  ****\n",
      "***    ***\n",
      "**      **\n",
      "*        *\n"
     ]
    }
   ],
   "source": [
    "def print12(n):\n",
    "    for i in range(n):\n",
    "        #star\n",
    "        for j in range(n-i):\n",
    "            print(\"*\", end = \"\")\n",
    "\n",
    "        #space\n",
    "        for j in range(2*i):\n",
    "            print(\" \", end = \"\")\n",
    "\n",
    "        #star\n",
    "        for j in range(n-i):\n",
    "            print(\"*\", end = \"\")\n",
    "\n",
    "        print(\"\")\n",
    "    \n",
    "print12(5)"
   ]
  },
  {
   "cell_type": "code",
   "execution_count": 21,
   "metadata": {},
   "outputs": [
    {
     "name": "stdout",
     "output_type": "stream",
     "text": [
      "*        *\n",
      "**      **\n",
      "***    ***\n",
      "****  ****\n",
      "**********\n"
     ]
    }
   ],
   "source": [
    "def print13(n):\n",
    "    for i in range(n):\n",
    "        #star\n",
    "        for j in range(i+1):\n",
    "            print(\"*\", end = \"\")\n",
    "\n",
    "        #space\n",
    "        for j in range(2*n - 2*i - 2):\n",
    "            print(\" \", end = \"\")\n",
    "\n",
    "        #star\n",
    "        for j in range(i+1):\n",
    "            print(\"*\", end = \"\")\n",
    "\n",
    "        print(\"\")\n",
    "\n",
    "print13(5)"
   ]
  },
  {
   "cell_type": "code",
   "execution_count": 22,
   "metadata": {},
   "outputs": [
    {
     "name": "stdout",
     "output_type": "stream",
     "text": [
      "**********\n",
      "****  ****\n",
      "***    ***\n",
      "**      **\n",
      "*        *\n",
      "*        *\n",
      "**      **\n",
      "***    ***\n",
      "****  ****\n",
      "**********\n"
     ]
    }
   ],
   "source": [
    "print12(5)\n",
    "print13(5)"
   ]
  },
  {
   "cell_type": "code",
   "execution_count": 74,
   "metadata": {},
   "outputs": [
    {
     "name": "stdout",
     "output_type": "stream",
     "text": [
      "*        *\n",
      "**      **\n",
      "***    ***\n",
      "****  ****\n",
      "**********\n",
      "****  ****\n",
      "***    ***\n",
      "**      **\n",
      "*        *\n"
     ]
    }
   ],
   "source": [
    "def print14(n):\n",
    "    for i in range(n):\n",
    "        if i < n//2+1:\n",
    "            #star\n",
    "            for j in range(i+1):\n",
    "                print(\"*\", end = \"\")\n",
    "\n",
    "            #space\n",
    "            for j in range(n - 2*i - 1):\n",
    "                print(\" \", end = \"\")\n",
    "\n",
    "            #star\n",
    "            for j in range(i+1):\n",
    "                print(\"*\", end = \"\")\n",
    "            \n",
    "            print(\"\")\n",
    "\n",
    "        else:\n",
    "            for j in range(n-i):\n",
    "                print(\"*\", end = \"\")\n",
    "\n",
    "            #space\n",
    "            for j in range(n - 2*j -1):\n",
    "                print(\" \", end = \"\")\n",
    "\n",
    "            #star\n",
    "            for j in range(n-i):\n",
    "                print(\"*\", end = \"\")\n",
    "            \n",
    "            print(\"\")\n",
    "\n",
    "print14(9)"
   ]
  },
  {
   "cell_type": "code",
   "execution_count": 78,
   "metadata": {},
   "outputs": [
    {
     "name": "stdout",
     "output_type": "stream",
     "text": [
      "*****\n",
      "*   *\n",
      "*   *\n",
      "*   *\n",
      "*****\n"
     ]
    }
   ],
   "source": [
    "def square(n):\n",
    "    for i in range(n):\n",
    "        for j in range(n):\n",
    "            if i == 0 or i == n-1 or j==0 or j==n-1:\n",
    "                print(\"*\", end = \"\")\n",
    "            else:\n",
    "                print(\" \", end = \"\")\n",
    "        print(\"\")\n",
    "\n",
    "square(5)\n",
    "\n"
   ]
  },
  {
   "cell_type": "code",
   "execution_count": 84,
   "metadata": {},
   "outputs": [
    {
     "name": "stdout",
     "output_type": "stream",
     "text": [
      "4444444\n",
      "4333334\n",
      "4322234\n",
      "4321234\n",
      "4322234\n",
      "4333334\n",
      "4444444\n"
     ]
    }
   ],
   "source": [
    "def matrix(n):\n",
    "    for i in range(2*n - 1):\n",
    "        for j in range(2*n - 1):\n",
    "            top = i\n",
    "            left = j\n",
    "            right = 2*n - 2 - j\n",
    "            bottom = 2*n - 2 - i\n",
    "            print(n - min(min(top, bottom), min(left, right)), end = \"\")\n",
    "        print(\"\")\n",
    "    \n",
    "matrix(4)\n",
    "\n",
    "\n",
    "            "
   ]
  },
  {
   "cell_type": "code",
   "execution_count": null,
   "metadata": {},
   "outputs": [],
   "source": []
  }
 ],
 "metadata": {
  "kernelspec": {
   "display_name": "Python 3",
   "language": "python",
   "name": "python3"
  },
  "language_info": {
   "codemirror_mode": {
    "name": "ipython",
    "version": 3
   },
   "file_extension": ".py",
   "mimetype": "text/x-python",
   "name": "python",
   "nbconvert_exporter": "python",
   "pygments_lexer": "ipython3",
   "version": "3.12.5"
  }
 },
 "nbformat": 4,
 "nbformat_minor": 2
}
